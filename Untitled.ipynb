{
 "cells": [
  {
   "cell_type": "markdown",
   "metadata": {},
   "source": [
    "# Set Cover Problem"
   ]
  },
  {
   "cell_type": "markdown",
   "metadata": {},
   "source": [
    "### Imports"
   ]
  },
  {
   "cell_type": "code",
   "execution_count": 1,
   "metadata": {},
   "outputs": [],
   "source": [
    "import time\n",
    "\n",
    "import sys\n",
    "from collections import namedtuple\n",
    "import math\n",
    "from gurobipy import *"
   ]
  },
  {
   "cell_type": "markdown",
   "metadata": {},
   "source": [
    "### Tuplas"
   ]
  },
  {
   "cell_type": "code",
   "execution_count": 2,
   "metadata": {},
   "outputs": [],
   "source": [
    "Element = namedtuple(\"Element\", ['index'])\n",
    "Subset = namedtuple(\"Subset\", ['index', 'cost'])"
   ]
  },
  {
   "cell_type": "markdown",
   "metadata": {},
   "source": [
    "### Gurobi variables"
   ]
  },
  {
   "cell_type": "code",
   "execution_count": 5,
   "metadata": {},
   "outputs": [],
   "source": [
    "# time limit in seconds\n",
    "time_limit = 100\n",
    "# memory limit in bytes\n",
    "memory_limit = 10 ** 9\n"
   ]
  },
  {
   "cell_type": "markdown",
   "metadata": {},
   "source": [
    "### Classes"
   ]
  },
  {
   "cell_type": "code",
   "execution_count": 8,
   "metadata": {},
   "outputs": [],
   "source": [
    "class Subset:\n",
    "        def __init__(self, index, cost, elementList):   #construttor\n",
    "                self.index = index\n",
    "                self.cost = cost\n",
    "                self.elementList = elementList\n",
    "                    \n",
    "class Element:\n",
    "        def __init__(self, index, subsets):   #construttor\n",
    "                self.index = index\n",
    "                self.subsets = subsets"
   ]
  },
  {
   "cell_type": "markdown",
   "metadata": {},
   "source": [
    "### Set Cover LP implementation"
   ]
  },
  {
   "cell_type": "code",
   "execution_count": 19,
   "metadata": {},
   "outputs": [],
   "source": [
    "def setCoverLP(subsetList, elementList):\n",
    "    #Instantiate Gurobi Solver\n",
    "    solver = Model('SolveLinearProblem')\n",
    "    \n",
    "    #Turn verbose off\n",
    "    solver.setParam(GRB.Param.OutputFlag, 0)\n",
    "    \n",
    "    # Set a time limit\n",
    "    solver.setParam(GRB.Param.TimeLimit, time_limit)\n",
    "                  \n",
    "    # Creating decision variable\n",
    "    x = []\n",
    "    for j in range(0, len(subsetList)):\n",
    "        x.append(solver.addVar(vtype=GRB.CONTINUOUS, name='x[%d]' % j))\n",
    "                    \n",
    "    # Xj >= 1, i = 1, ..., n\n",
    "    # i/n elements j/m subsets\n",
    "    for i in range(0, len(elementList)):\n",
    "        left_side = LinExpr()\n",
    "        for j in range(0, len(elementList[i].subsets)):\n",
    "            left_side += 1* x[elementList[i].subsets[j]]\n",
    "        solver.addConstr(left_side, GRB.GREATER_EQUAL, 1, 'c1[%d]' % j)\n",
    "        \n",
    "    # Xj >= 0, j = 1, ..., m\n",
    "    for j in range(0, len(subsetList)):\n",
    "        solver.addConstr(x[j], GRB.GREATER_EQUAL, 0, 'c2[%d]' % j)\n",
    "    \n",
    "    # Objective function\n",
    "    solver.setObjective(\n",
    "        (quicksum(subsetList[j].cost * x[j]\n",
    "                 for j in range(0, len(subsetList)))\n",
    "        ), GRB.MINIMIZE\n",
    "    )\n",
    "    \n",
    "    #Solves the LP Model\n",
    "    Solver.optimize()\n",
    "        \n",
    "    if DEBUG >= 2:\n",
    "        print(\"Result status = {solver.status}\")\n",
    "\n",
    "    intOPT = 0\n",
    "    if solver.SolCount == 0:\n",
    "\n",
    "        if DEBUG >= 2:\n",
    "            print(\"LP model does not found a solution\")\n",
    "\n",
    "        return ([], intOPT)\n",
    "\n",
    "    # The problem has an optimal solution.\n",
    "    if solver.status == GRB.Status.OPTIMAL:\n",
    "        intOPT = 1\n",
    "\n",
    "        if DEBUG >= 2:\n",
    "            print(\"LP solver found optimal solution\")\n",
    "\n",
    "    elif solver.status == GRB.Status.TIME_LIMIT:\n",
    "\n",
    "        if DEBUG >= 2:\n",
    "            print(\"LP solver ended due to time limit\")\n",
    "\n",
    "    elif solver.status == GRB.Status.SUBOPTIMAL:\n",
    "\n",
    "        if DEBUG >= 2:\n",
    "            print(\"LP solver found feasible solution\")\n",
    "\n",
    "    elif solver.status == GRB.Status.INF_OR_UNBD:\n",
    "\n",
    "        if DEBUG >= 2:\n",
    "            print(\"LP model is infeasible or unbounded\")\n",
    "\n",
    "        return (bound + 1, [], 0)\n",
    "\n",
    "    elif solver.status == GRB.Status.CUTOFF:\n",
    "\n",
    "        if DEBUG >= 2:\n",
    "            print(\"LP model solution is worse than bound\")\n",
    "\n",
    "        return ([], 0)\n",
    "\n",
    "    elif solver.status == GRB.Status.LOADED:\n",
    "\n",
    "        if DEBUG >= 2:\n",
    "            print(\"LP solver does not found a solution\")\n",
    "\n",
    "        return ([], 0)\n",
    "\n",
    "    else:\n",
    "        print(\"Weird return from LP solver\")\n",
    "        exit(1)\n",
    "\n",
    "    if DEBUG >= 2:\n",
    "        # The objective value of the solution.\n",
    "        print(\"Optimal objective value = %.2f\" % solver.objVal)\n",
    "\n",
    "    #Solution value\n",
    "    sol_value = solver.objVal\n",
    "\n",
    "    solution = [-1] * len(subsetList)\n",
    "\n",
    "    for j in range(0, len(subsetList)):\n",
    "        if x[j] > 0:\n",
    "            solution[j] = x[j]\n",
    "            break\n",
    "\n",
    "    if DEBUG >= 3:\n",
    "        print(solution)\n",
    "\n",
    "    return (sol_value, solution, intOPT)\n",
    "    \n",
    "    return 0\n",
    "\n",
    "\n",
    "    "
   ]
  },
  {
   "cell_type": "code",
   "execution_count": null,
   "metadata": {},
   "outputs": [],
   "source": [
    "inputFile = open()"
   ]
  }
 ],
 "metadata": {
  "kernelspec": {
   "display_name": "Python 2",
   "language": "python",
   "name": "python2"
  },
  "language_info": {
   "codemirror_mode": {
    "name": "ipython",
    "version": 2
   },
   "file_extension": ".py",
   "mimetype": "text/x-python",
   "name": "python",
   "nbconvert_exporter": "python",
   "pygments_lexer": "ipython2",
   "version": "2.7.15"
  }
 },
 "nbformat": 4,
 "nbformat_minor": 2
}
